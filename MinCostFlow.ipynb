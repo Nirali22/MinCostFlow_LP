{
 "cells": [
  {
   "cell_type": "markdown",
   "metadata": {},
   "source": [
    "# Generalizations of Max-Flow\n",
    "\n",
    "The purpose of this notebook is to learn about the min-cost flow problem, a generalization of max-flow, and to familiarize myself with implementing and solving linear programs."
   ]
  },
  {
   "cell_type": "markdown",
   "metadata": {},
   "source": [
    "## Min-Cost Flow\n",
    "\n",
    "Recall that a flow network with demands consists of a directed graph $G = (V, E)$, where each edge $(i,j) \\in E$ has a positive integer capacity $c_{ij}$ and each node $i \\in V$ has an integer demand $d_i$. In a *min-cost flow* problem, each edge $(i,j) \\in E$ also has a cost (or weight) $w_{ij}$. (Note that this input generalizes the input to two important problems: in max flow, the edge weights were not important while in shortest paths, the edge capacities were not important.) \n",
    "\n",
    "Given a flow network with capacities and costs, the goal is to find a *feasible* flow $f: E \\rightarrow R^+$ --that is, a flow satisfying edge capacity constraints and node demands-- that minimizes the total cost of the flow. Explicitly, the problem can be formulated as a linear program."
   ]
  },
  {
   "cell_type": "markdown",
   "metadata": {},
   "source": [
    "### Part 1\n",
    "\n",
    "Working with some standard benchmark instances for min-cost flow found [here](http://elib.zib.de/pub/mp-testdata/mincost/gte/index.html). The format of the data is described in the [Info](http://elib.zib.de/pub/mp-testdata/mincost/gte/info) file.Note that the data sometimes lists multiple edges between the same nodes, but with different costs or capacities."
   ]
  },
  {
   "cell_type": "code",
   "execution_count": 1,
   "metadata": {
    "collapsed": true
   },
   "outputs": [],
   "source": [
    "import networkx as nx\n",
    "\n",
    "def create_graph(infile):\n",
    "    \"\"\"Creates a directed graph as specified by the input file. Edges are annotated with 'capacity'\n",
    "    and 'weight' attributes, and nodes are annotated with 'demand' attributes.\n",
    "    \n",
    "    Args:\n",
    "        infile: the input file using the format to specify a min-cost flow problem.\n",
    "        \n",
    "    Returns:\n",
    "        A directed graph (but not a multi-graph) with edges annotated with 'capacity' and 'weight' attributes\n",
    "        and nodes annotated with 'demand' attributes.\n",
    "    \"\"\"\n",
    "    # TODO: implement function\n",
    "    #initial directed graph\n",
    "    G=nx.DiGraph()\n",
    "    f= open(infile,'r')\n",
    "    for line in f.readlines():\n",
    "        t=line[0]\n",
    "        if t=='p':\n",
    "            part=line.strip().split(\" \")\n",
    "            nn=int(part[2])\n",
    "            ne=int(part[3])\n",
    "        if t=='n':\n",
    "            part=line.strip().split(\" \")\n",
    "            node=part[1]\n",
    "            demand=int(part[2])\n",
    "            G.add_node(node,demand=demand)\n",
    "        if t=='a':\n",
    "            part=line.strip().split(\" \")\n",
    "            tail=part[1]\n",
    "            head=part[2]\n",
    "            low_cap=int(part[3])\n",
    "            capacity=int(part[4])\n",
    "            cost=int(part[5])\n",
    "            if tail not in G.nodes():\n",
    "                G.add_node(tail,demand=0)\n",
    "            if head not in G.nodes():\n",
    "                G.add_node(head,demand=0)\n",
    "            if (head,tail) in G.edges():\n",
    "                nn=nn+1\n",
    "                G.add_node(str(nn),demand=0)\n",
    "                G.add_edge(head,str(nn),weight=cost,capacity=capacity)\n",
    "                G.add_edge(str(nn),tail,weight=0,capacity=capacity)\n",
    "                ne+=2\n",
    "            if (head,tail) not in G.edges():\n",
    "                G.add_edge(head,tail,weight=cost,capacity=capacity)\n",
    "    return G\n",
    "    pass"
   ]
  },
  {
   "cell_type": "markdown",
   "metadata": {},
   "source": [
    "The following will check that your code outputs the expected min cost flow values on several test instances."
   ]
  },
  {
   "cell_type": "code",
   "execution_count": 2,
   "metadata": {},
   "outputs": [
    {
     "name": "stdout",
     "output_type": "stream",
     "text": [
      "Correct value for _40 instance: True\n",
      "Correct value for _6830 instance: True\n",
      "Correct value for _176280 instance: True\n"
     ]
    }
   ],
   "source": [
    "G_40 = create_graph('gte_bad.40')\n",
    "G_6830 = create_graph('gte_bad.6830')\n",
    "G_176280 = create_graph('gte_bad.176280')\n",
    "\n",
    "print \"Correct value for _40 instance:\", nx.min_cost_flow_cost(G_40) == 52099553858\n",
    "print \"Correct value for _6830 instance:\", nx.min_cost_flow_cost(G_6830) == 299390431788\n",
    "print \"Correct value for _176280 instance:\", nx.min_cost_flow_cost(G_176280) == 510585093810"
   ]
  },
  {
   "cell_type": "markdown",
   "metadata": {},
   "source": [
    "## Linear Programming\n",
    "\n",
    "Instead of using special-purpose min-cost flow solvers, I am formulating the problems as linear programs and using general-purpose LP solvers to find the solutions."
   ]
  },
  {
   "cell_type": "code",
   "execution_count": 3,
   "metadata": {
    "collapsed": true
   },
   "outputs": [],
   "source": [
    "import pulp \n",
    "\n",
    "def lp_flow_value(G):\n",
    "    \"\"\"Computes the value of the minimum cost flow by formulating and solving\n",
    "    the problem as an LP.\n",
    "    \n",
    "    Args:\n",
    "        G: a directed graph with edges annotated with 'capacity' and 'weight'\n",
    "            attrbutes, and nodes annotated with 'demand' attributes.\n",
    "            \n",
    "    Returns:\n",
    "        The value of the minimum cost flow.\n",
    "    \"\"\"\n",
    "    # TODO: implement function\n",
    "    lp_problem=pulp.LpProblem(\"Minimum Cost Flow\", pulp.LpMinimize)\n",
    "    demand=[]\n",
    "    capacity=[]\n",
    "    weight=[]\n",
    "    total_cost=0\n",
    "    demand = nx.get_node_attributes(G, 'demand')\n",
    "    capacity = nx.get_edge_attributes(G, 'capacity')\n",
    "    weight = nx.get_edge_attributes(G, 'weight')\n",
    "    flow = pulp.LpVariable.dicts('Flow on', indexs=G.edges(), lowBound=0, upBound=None, cat=pulp.LpInteger)\n",
    "    for edge in G.edges():\n",
    "        total_cost=total_cost+flow[edge]*weight[edge]\n",
    "    lp_problem += total_cost, \"Total Cost of Flow\"\n",
    "    for edge in G.edges():\n",
    "        lp_problem += flow[edge] <= capacity[edge]\n",
    "    nodes=G.nodes()\n",
    "    inflow=0\n",
    "    outflow=0\n",
    "    for node in G.nodes():\n",
    "        inflow=0\n",
    "        outflow=0\n",
    "        for edge in G.in_edges(node):\n",
    "            inflow=inflow+flow[edge]\n",
    "        for edges in G.out_edges(node):\n",
    "            outflow=outflow+flow[edges]\n",
    "        lp_problem+= inflow-outflow ==demand[node]\n",
    "        \n",
    "    lp_problem.solve()\n",
    "    min_cost=pulp.value(lp_problem.objective)\n",
    "    return int(min_cost)\n",
    "    pass"
   ]
  },
  {
   "cell_type": "markdown",
   "metadata": {},
   "source": [
    "The following will check that the LP finds the same optimal values as previously."
   ]
  },
  {
   "cell_type": "code",
   "execution_count": 4,
   "metadata": {},
   "outputs": [
    {
     "name": "stdout",
     "output_type": "stream",
     "text": [
      "Correct value for _40 instance: True\n",
      "Correct value for _6830 instance: True\n",
      "Correct value for _176280 instance: True\n"
     ]
    }
   ],
   "source": [
    "print \"Correct value for _40 instance:\", lp_flow_value(G_40) == 52099553858\n",
    "print \"Correct value for _6830 instance:\", lp_flow_value(G_6830) == 299390431788\n",
    "print \"Correct value for _176280 instance:\", lp_flow_value(G_176280) == 510585093810"
   ]
  },
  {
   "cell_type": "code",
   "execution_count": null,
   "metadata": {
    "collapsed": true
   },
   "outputs": [],
   "source": []
  }
 ],
 "metadata": {
  "kernelspec": {
   "display_name": "Python 2",
   "language": "python",
   "name": "python2"
  },
  "language_info": {
   "codemirror_mode": {
    "name": "ipython",
    "version": 2
   },
   "file_extension": ".py",
   "mimetype": "text/x-python",
   "name": "python",
   "nbconvert_exporter": "python",
   "pygments_lexer": "ipython2",
   "version": "2.7.15"
  }
 },
 "nbformat": 4,
 "nbformat_minor": 1
}
